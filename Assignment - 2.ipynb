{
 "cells": [
  {
   "cell_type": "code",
   "execution_count": null,
   "id": "36abe92a-8170-436b-9f04-e365a87a52f8",
   "metadata": {},
   "outputs": [],
   "source": [
    "#Q1. How do you comment code in Python? What are the different types of comments?\n"
   ]
  },
  {
   "cell_type": "code",
   "execution_count": null,
   "id": "eeb57b7a-9a67-4cd0-a18d-8fbd44fa1a92",
   "metadata": {},
   "outputs": [],
   "source": [
    "'''\n",
    "Ans : # is the single line comment and for multiple line we use ''',''' or \"\"\",\"\"\"\n",
    "'''"
   ]
  },
  {
   "cell_type": "code",
   "execution_count": null,
   "id": "91af0370-1125-4fdf-8648-50c925badc97",
   "metadata": {},
   "outputs": [],
   "source": [
    "#Q2. What are variables in Python? How do you declare and assign values to variables?\n"
   ]
  },
  {
   "cell_type": "code",
   "execution_count": null,
   "id": "9c6da09f-23e8-42f4-8d09-c40efc54e02b",
   "metadata": {},
   "outputs": [],
   "source": [
    "'''\n",
    "Ans :\n",
    "1.Variable must start with latter or uderscore charactor\n",
    "2.A variable cant start with number\n",
    "3.A variable can contain alpha numeric charactor and undercore (A-z,0-9,and _)\n",
    "4.A variable name are case sensative (age,Age and AGE are three different variable)\n",
    "5.A variable name cannot be any of python keywords\n",
    "\n",
    "Legal variable name:\n",
    "myvar = \"John\"\n",
    "my_var = \"John\"\n",
    "_my_var = \"John\"\n",
    "myVar = \"John\"\n",
    "MYVAR = \"John\"\n",
    "myvar2 = \"John\"\n",
    "\n",
    "Multi Words Variable Names :\n",
    "Camel Case (myVariableName = 'Satish')\n",
    "\n",
    "Pascal Case:\n",
    "MyVariableName = \"Satish\"\n",
    "\n",
    "Snake Case\n",
    "my_variable_name = \"Satish\"\n",
    "\n",
    "Many value to multiple Variable \n",
    "x,y,z = 'satish','rajamouli','Vemula'\n",
    "\n",
    "one value to Multiple Variable\n",
    "x = y = z = 'satish'"
   ]
  },
  {
   "cell_type": "code",
   "execution_count": null,
   "id": "320b0eb5-c4a4-4b49-99a9-d06051471769",
   "metadata": {},
   "outputs": [],
   "source": [
    "#Q3. How do you convert one data type to another in Python?\n"
   ]
  },
  {
   "cell_type": "code",
   "execution_count": 15,
   "id": "a21413fb-4df4-4a5f-bc22-be9fa9b58eaf",
   "metadata": {},
   "outputs": [
    {
     "name": "stdout",
     "output_type": "stream",
     "text": [
      "<class 'str'>\n"
     ]
    },
    {
     "data": {
      "text/plain": [
       "'2'"
      ]
     },
     "execution_count": 15,
     "metadata": {},
     "output_type": "execute_result"
    }
   ],
   "source": [
    "a = str(2)\n",
    "print(type(a))\n",
    "a"
   ]
  },
  {
   "cell_type": "code",
   "execution_count": 14,
   "id": "16c04966-b83c-4939-884d-b17728c27a98",
   "metadata": {},
   "outputs": [
    {
     "name": "stdout",
     "output_type": "stream",
     "text": [
      "<class 'float'>\n"
     ]
    },
    {
     "data": {
      "text/plain": [
       "3.0"
      ]
     },
     "execution_count": 14,
     "metadata": {},
     "output_type": "execute_result"
    }
   ],
   "source": [
    "b = float(\"3\")\n",
    "print(type(b))\n",
    "b"
   ]
  },
  {
   "cell_type": "code",
   "execution_count": null,
   "id": "7f2eb3f1-b53b-4449-9331-f9b38a538acc",
   "metadata": {},
   "outputs": [],
   "source": [
    "#Q4. How do you write and execute a Python script from the command line?\n"
   ]
  },
  {
   "cell_type": "code",
   "execution_count": null,
   "id": "8e9489c8-fdbc-47ee-8528-f8cae1d66e03",
   "metadata": {},
   "outputs": [],
   "source": [
    "'''\n",
    "Ans :\n",
    "open a command line and type the word python followed by the path to your script file like this: python first_code.py\n",
    "run the code "
   ]
  },
  {
   "cell_type": "code",
   "execution_count": null,
   "id": "b6d88c2a-0053-4611-ba7f-6eb69f868e57",
   "metadata": {},
   "outputs": [],
   "source": [
    "#Q5. Given a list my_list = [1, 2, 3, 4, 5], write the code to slice the list and obtain the sub-list [2, 3].\n"
   ]
  },
  {
   "cell_type": "code",
   "execution_count": 20,
   "id": "af449240-0ed5-4c5c-be1d-64601ffed2d2",
   "metadata": {},
   "outputs": [
    {
     "data": {
      "text/plain": [
       "[2, 3]"
      ]
     },
     "execution_count": 20,
     "metadata": {},
     "output_type": "execute_result"
    }
   ],
   "source": [
    "my_list = [1,2,3,4,5]\n",
    "my_list[1:3]"
   ]
  },
  {
   "cell_type": "code",
   "execution_count": null,
   "id": "ca9e7f91-5dba-415a-b3c9-4845e8375f3e",
   "metadata": {},
   "outputs": [],
   "source": [
    "#Q6. What is a complex number in mathematics, and how is it represented in Python?\n"
   ]
  },
  {
   "cell_type": "code",
   "execution_count": null,
   "id": "91afc569-cd3d-4802-9de0-77e4cdd7f171",
   "metadata": {},
   "outputs": [],
   "source": [
    "'''\n",
    "Ans :\n",
    "I mathematics a complex numbe is number that can be expressed in the form of a+bi, where a and b real number and i is imaginary unit.\n",
    "\n",
    "in python a complex number is number that can be expressed in the form of a+bj, where a and b is real number and j is imaginary unit which is the square \n",
    "root of -1"
   ]
  },
  {
   "cell_type": "code",
   "execution_count": null,
   "id": "c1b59b57-8830-4cb5-b1f2-78d69071998d",
   "metadata": {},
   "outputs": [],
   "source": [
    "#Q7. What is the correct way to declare a variable named age and assign the value 25 to it?\n"
   ]
  },
  {
   "cell_type": "code",
   "execution_count": 21,
   "id": "514f3bce-3439-47cc-bb12-b017c9343de5",
   "metadata": {},
   "outputs": [],
   "source": [
    "age =25"
   ]
  },
  {
   "cell_type": "code",
   "execution_count": 22,
   "id": "14eab776-221a-4824-9bbd-7f840a80ab6f",
   "metadata": {},
   "outputs": [
    {
     "data": {
      "text/plain": [
       "25"
      ]
     },
     "execution_count": 22,
     "metadata": {},
     "output_type": "execute_result"
    }
   ],
   "source": [
    "age"
   ]
  },
  {
   "cell_type": "code",
   "execution_count": null,
   "id": "f273486b-8585-43ba-909a-3d18ea14a8f0",
   "metadata": {},
   "outputs": [],
   "source": [
    "#Q8. Declare a variable named price and assign the value 9.99 to it. What data type does this variable belong to?\n"
   ]
  },
  {
   "cell_type": "code",
   "execution_count": 23,
   "id": "f160b482-9288-49a1-94c1-a9ab393cce21",
   "metadata": {},
   "outputs": [
    {
     "name": "stdout",
     "output_type": "stream",
     "text": [
      "<class 'float'>\n"
     ]
    },
    {
     "data": {
      "text/plain": [
       "9.99"
      ]
     },
     "execution_count": 23,
     "metadata": {},
     "output_type": "execute_result"
    }
   ],
   "source": [
    "price = 9.99\n",
    "print(type(price))\n",
    "price"
   ]
  },
  {
   "cell_type": "code",
   "execution_count": null,
   "id": "af947d91-aa58-43ec-99ad-8d497633e729",
   "metadata": {},
   "outputs": [],
   "source": [
    "#Create a variable named name and assign your full name to it as a string. How would you print the value of this variable?\n"
   ]
  },
  {
   "cell_type": "code",
   "execution_count": 25,
   "id": "885dd619-baa4-47ae-a45a-529bdb4ff6f1",
   "metadata": {},
   "outputs": [
    {
     "name": "stdout",
     "output_type": "stream",
     "text": [
      "<class 'str'>\n",
      "Satish Rajamouli Vemula\n"
     ]
    }
   ],
   "source": [
    "name = 'Satish Rajamouli Vemula'\n",
    "print(type(name))\n",
    "print(name)"
   ]
  },
  {
   "cell_type": "code",
   "execution_count": null,
   "id": "59bb5322-5a01-435b-9b16-eb3b808d82dd",
   "metadata": {},
   "outputs": [],
   "source": [
    "#Given the string \"Hello, World!\", extract the substring \"World\".\n"
   ]
  },
  {
   "cell_type": "code",
   "execution_count": 31,
   "id": "9ade4416-5b50-424b-bfcd-91da6c49721f",
   "metadata": {},
   "outputs": [
    {
     "name": "stdout",
     "output_type": "stream",
     "text": [
      "Hello, World!\n",
      "13\n"
     ]
    },
    {
     "data": {
      "text/plain": [
       "'World!'"
      ]
     },
     "execution_count": 31,
     "metadata": {},
     "output_type": "execute_result"
    }
   ],
   "source": [
    "a =\"Hello, World!\"\n",
    "print(a)\n",
    "print(len(a))\n",
    "a[7:14]"
   ]
  },
  {
   "cell_type": "code",
   "execution_count": null,
   "id": "cab740f5-c982-4baf-9d16-fa7d6afad38d",
   "metadata": {},
   "outputs": [],
   "source": [
    "#Q11. Create a variable named \"is_student\" and assign it a boolean value indicating whether you are currently a student or not.\n"
   ]
  },
  {
   "cell_type": "code",
   "execution_count": 37,
   "id": "731cda8e-119c-4e86-bdd5-33f97330cc19",
   "metadata": {},
   "outputs": [
    {
     "name": "stdout",
     "output_type": "stream",
     "text": [
      "Yes im a student\n"
     ]
    }
   ],
   "source": [
    "is_student = True\n",
    "if is_student == True:\n",
    "    print(\"Yes im a student\")\n",
    "    "
   ]
  }
 ],
 "metadata": {
  "kernelspec": {
   "display_name": "Python 3 (ipykernel)",
   "language": "python",
   "name": "python3"
  },
  "language_info": {
   "codemirror_mode": {
    "name": "ipython",
    "version": 3
   },
   "file_extension": ".py",
   "mimetype": "text/x-python",
   "name": "python",
   "nbconvert_exporter": "python",
   "pygments_lexer": "ipython3",
   "version": "3.10.8"
  }
 },
 "nbformat": 4,
 "nbformat_minor": 5
}
